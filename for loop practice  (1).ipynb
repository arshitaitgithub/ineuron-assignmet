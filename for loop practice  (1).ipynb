{
 "cells": [
  {
   "cell_type": "code",
   "execution_count": 1,
   "metadata": {},
   "outputs": [],
   "source": [
    "l = [1,2,3,4,\"sudh\" ,\"kumar\" , 45.56]"
   ]
  },
  {
   "cell_type": "code",
   "execution_count": 4,
   "metadata": {},
   "outputs": [
    {
     "name": "stdout",
     "output_type": "stream",
     "text": [
      "1\n",
      "2\n",
      "3\n",
      "4\n",
      "sudh\n",
      "kumar\n",
      "45.56\n"
     ]
    }
   ],
   "source": [
    "for i in l :\n",
    "    print(i)"
   ]
  },
  {
   "cell_type": "code",
   "execution_count": 7,
   "metadata": {},
   "outputs": [],
   "source": [
    "for i in l :\n",
    "    pass"
   ]
  },
  {
   "cell_type": "code",
   "execution_count": 8,
   "metadata": {},
   "outputs": [
    {
     "name": "stdout",
     "output_type": "stream",
     "text": [
      "s\n",
      "u\n",
      "d\n",
      "h\n"
     ]
    }
   ],
   "source": [
    "s = \"sudh\"\n",
    "for i in s :\n",
    "    print(i)"
   ]
  },
  {
   "cell_type": "code",
   "execution_count": 9,
   "metadata": {},
   "outputs": [
    {
     "name": "stdout",
     "output_type": "stream",
     "text": [
      "1\n",
      "2\n",
      "3\n",
      "4\n",
      "sudh\n",
      "kumar\n",
      "45.56\n",
      "if for loop is going to complete itself the it will execute else \n"
     ]
    }
   ],
   "source": [
    "for i in l :\n",
    "    print(i)\n",
    "else :\n",
    "    print(\"if for loop is going to complete itself the it will execute else \")"
   ]
  },
  {
   "cell_type": "code",
   "execution_count": 10,
   "metadata": {},
   "outputs": [
    {
     "data": {
      "text/plain": [
       "[1, 2, 3, 4, 'sudh', 'kumar', 45.56]"
      ]
     },
     "execution_count": 10,
     "metadata": {},
     "output_type": "execute_result"
    }
   ],
   "source": [
    "l"
   ]
  },
  {
   "cell_type": "code",
   "execution_count": 11,
   "metadata": {},
   "outputs": [
    {
     "name": "stdout",
     "output_type": "stream",
     "text": [
      "1\n",
      "2\n",
      "3\n"
     ]
    }
   ],
   "source": [
    "for i in l :\n",
    "    if i == 4 :\n",
    "        break\n",
    "    print(i)\n",
    "else :\n",
    "    print(\"this will execute only if for is going to complete itself\")"
   ]
  },
  {
   "cell_type": "code",
   "execution_count": 13,
   "metadata": {},
   "outputs": [
    {
     "name": "stdout",
     "output_type": "stream",
     "text": [
      "s\n",
      "u\n",
      "d\n",
      "h\n",
      "a\n",
      "n\n",
      "s\n",
      "h\n",
      "u\n",
      "print srtring  sudhanshu\n"
     ]
    }
   ],
   "source": [
    "s = \"sudhanshu\"\n",
    "for i in s :\n",
    "    if i == 'z' :\n",
    "        break\n",
    "    print(i)\n",
    "else :\n",
    "    print(\"print srtring \" , s )\n",
    "        "
   ]
  },
  {
   "cell_type": "code",
   "execution_count": 14,
   "metadata": {},
   "outputs": [
    {
     "name": "stdout",
     "output_type": "stream",
     "text": [
      "4\n",
      "5\n",
      "6\n",
      "7\n",
      "8\n",
      "6\n",
      "sudh\n"
     ]
    }
   ],
   "source": [
    "t = (4,5,6,7,8,6,\"sudh\")\n",
    "for i in t :\n",
    "    print(i)"
   ]
  },
  {
   "cell_type": "code",
   "execution_count": 15,
   "metadata": {},
   "outputs": [],
   "source": [
    "b = {4,5,6,7,7,7,7,7,7,7,7, 8,\"sudh\"}"
   ]
  },
  {
   "cell_type": "code",
   "execution_count": 16,
   "metadata": {},
   "outputs": [
    {
     "data": {
      "text/plain": [
       "set"
      ]
     },
     "execution_count": 16,
     "metadata": {},
     "output_type": "execute_result"
    }
   ],
   "source": [
    "type(b)"
   ]
  },
  {
   "cell_type": "code",
   "execution_count": 17,
   "metadata": {},
   "outputs": [
    {
     "data": {
      "text/plain": [
       "{4, 5, 6, 7, 8, 'sudh'}"
      ]
     },
     "execution_count": 17,
     "metadata": {},
     "output_type": "execute_result"
    }
   ],
   "source": [
    "b"
   ]
  },
  {
   "cell_type": "code",
   "execution_count": 18,
   "metadata": {},
   "outputs": [
    {
     "name": "stdout",
     "output_type": "stream",
     "text": [
      "4\n",
      "5\n",
      "6\n",
      "7\n",
      "8\n",
      "sudh\n"
     ]
    }
   ],
   "source": [
    "for i in b :\n",
    "    print(i)"
   ]
  },
  {
   "cell_type": "code",
   "execution_count": 20,
   "metadata": {},
   "outputs": [],
   "source": [
    "d = {'key1' :\"sudh\" , 'contact' : \"sudhanshu@ineuron.ai\" , \"position\" : \"xyz\"}"
   ]
  },
  {
   "cell_type": "code",
   "execution_count": 26,
   "metadata": {},
   "outputs": [
    {
     "name": "stdout",
     "output_type": "stream",
     "text": [
      "key1 : sudh\n",
      "contact : sudhanshu@ineuron.ai\n",
      "position : xyz\n"
     ]
    }
   ],
   "source": [
    "for i in d :\n",
    "    print(i ,\":\" ,  d[i] )"
   ]
  },
  {
   "cell_type": "code",
   "execution_count": 22,
   "metadata": {},
   "outputs": [
    {
     "data": {
      "text/plain": [
       "'sudh'"
      ]
     },
     "execution_count": 22,
     "metadata": {},
     "output_type": "execute_result"
    }
   ],
   "source": [
    "d['key1']"
   ]
  },
  {
   "cell_type": "code",
   "execution_count": 27,
   "metadata": {},
   "outputs": [
    {
     "data": {
      "text/plain": [
       "range(0, 9)"
      ]
     },
     "execution_count": 27,
     "metadata": {},
     "output_type": "execute_result"
    }
   ],
   "source": [
    "range(9)"
   ]
  },
  {
   "cell_type": "code",
   "execution_count": 28,
   "metadata": {},
   "outputs": [
    {
     "data": {
      "text/plain": [
       "[0, 1, 2, 3, 4, 5, 6, 7, 8]"
      ]
     },
     "execution_count": 28,
     "metadata": {},
     "output_type": "execute_result"
    }
   ],
   "source": [
    "list(range(9))"
   ]
  },
  {
   "cell_type": "code",
   "execution_count": 29,
   "metadata": {},
   "outputs": [
    {
     "name": "stdout",
     "output_type": "stream",
     "text": [
      "0\n",
      "1\n",
      "2\n",
      "3\n",
      "4\n",
      "5\n",
      "6\n",
      "7\n",
      "8\n"
     ]
    }
   ],
   "source": [
    "for i in range(9):\n",
    "    print(i)"
   ]
  },
  {
   "cell_type": "code",
   "execution_count": 31,
   "metadata": {},
   "outputs": [
    {
     "data": {
      "text/plain": [
       "[0, 1, 2, 3, 4, 5, 6, 7, 8]"
      ]
     },
     "execution_count": 31,
     "metadata": {},
     "output_type": "execute_result"
    }
   ],
   "source": [
    "list(range(0,9))"
   ]
  },
  {
   "cell_type": "code",
   "execution_count": 32,
   "metadata": {},
   "outputs": [
    {
     "data": {
      "text/plain": [
       "[0, 2, 4, 6, 8]"
      ]
     },
     "execution_count": 32,
     "metadata": {},
     "output_type": "execute_result"
    }
   ],
   "source": [
    "list(range(0,9 , 2))"
   ]
  },
  {
   "cell_type": "code",
   "execution_count": 33,
   "metadata": {},
   "outputs": [
    {
     "data": {
      "text/plain": [
       "[]"
      ]
     },
     "execution_count": 33,
     "metadata": {},
     "output_type": "execute_result"
    }
   ],
   "source": [
    "list(range(0,9 , -1))"
   ]
  },
  {
   "cell_type": "code",
   "execution_count": 34,
   "metadata": {},
   "outputs": [
    {
     "data": {
      "text/plain": [
       "[9, 8, 7, 6, 5, 4, 3, 2, 1]"
      ]
     },
     "execution_count": 34,
     "metadata": {},
     "output_type": "execute_result"
    }
   ],
   "source": [
    "list(range(9,0 , -1))"
   ]
  },
  {
   "cell_type": "code",
   "execution_count": 162,
   "metadata": {},
   "outputs": [
    {
     "name": "stdout",
     "output_type": "stream",
     "text": [
      "sudh     \n",
      "\n",
      "sudh     sudh     \n",
      "\n",
      "sudh     sudh     sudh     \n",
      "\n",
      "sudh     sudh     sudh     sudh     \n",
      "\n"
     ]
    }
   ],
   "source": [
    "n = 4 \n",
    "for i in range(4) :\n",
    "    for j in range(0 ,i+1) : \n",
    "        print(\"sudh\" , end = \"     \")\n",
    "    print(\"\\n\")"
   ]
  },
  {
   "cell_type": "code",
   "execution_count": 41,
   "metadata": {},
   "outputs": [
    {
     "name": "stdout",
     "output_type": "stream",
     "text": [
      "          sudh \n",
      "     sudh sudh sudh \n",
      "sudh sudh sudh sudh sudh \n"
     ]
    }
   ],
   "source": [
    "n=3\n",
    "for i in range(n):\n",
    "    for j in range(i,n-1):\n",
    "        print(\" \" * len(\"sudh\"),end=\" \")\n",
    "    for j in range(i+1):\n",
    "        print(\"sudh\",end=\" \")\n",
    "    for j in range(i): \n",
    "        print(\"sudh\",end=\" \")\n",
    "    print()\n"
   ]
  },
  {
   "cell_type": "code",
   "execution_count": 42,
   "metadata": {},
   "outputs": [
    {
     "name": "stdout",
     "output_type": "stream",
     "text": [
      "      sudh \n",
      "    sudh sudh \n",
      "  sudh sudh sudh \n",
      "sudh sudh sudh sudh \n"
     ]
    }
   ],
   "source": [
    "n=4\n",
    "k=n\n",
    "for i in range(n):\n",
    "    k=k-1\n",
    "    print('  '*k, end='')\n",
    "    for j in range(i+1):\n",
    "        print('sudh ', end= '')\n",
    "    print()\n"
   ]
  },
  {
   "cell_type": "code",
   "execution_count": 45,
   "metadata": {},
   "outputs": [
    {
     "name": "stdout",
     "output_type": "stream",
     "text": [
      "  sudh \n",
      " sudh sudh \n",
      "sudh sudh sudh \n"
     ]
    }
   ],
   "source": [
    "n=3\n",
    "for i in range(n):\n",
    "    for j in range(i,n-1):\n",
    "        print(\"\",end=' ')\n",
    "    for j in range(i+1):\n",
    "        print(\"sudh\",end=' ')\n",
    "    print()\n"
   ]
  },
  {
   "cell_type": "code",
   "execution_count": 46,
   "metadata": {},
   "outputs": [
    {
     "name": "stdout",
     "output_type": "stream",
     "text": [
      "   \n",
      "  sudh \n",
      " sudh sudh \n",
      "sudh sudh sudh \n"
     ]
    }
   ],
   "source": [
    "n = 3\n",
    "\n",
    "for i in range(n+1):\n",
    "    print(' '*(n-i) + 'sudh '*i)\n"
   ]
  },
  {
   "cell_type": "code",
   "execution_count": 49,
   "metadata": {},
   "outputs": [
    {
     "data": {
      "text/plain": [
       "[]"
      ]
     },
     "execution_count": 49,
     "metadata": {},
     "output_type": "execute_result"
    }
   ],
   "source": [
    "list(range(0))"
   ]
  },
  {
   "cell_type": "code",
   "execution_count": 50,
   "metadata": {},
   "outputs": [],
   "source": [
    "t = (3,23,45,67,2,4,5,6)"
   ]
  },
  {
   "cell_type": "code",
   "execution_count": 55,
   "metadata": {},
   "outputs": [
    {
     "data": {
      "text/plain": [
       "3"
      ]
     },
     "execution_count": 55,
     "metadata": {},
     "output_type": "execute_result"
    }
   ],
   "source": [
    "t[0]"
   ]
  },
  {
   "cell_type": "code",
   "execution_count": 57,
   "metadata": {},
   "outputs": [
    {
     "name": "stdout",
     "output_type": "stream",
     "text": [
      "0 3\n",
      "1 23\n",
      "2 45\n",
      "3 67\n",
      "4 2\n",
      "5 4\n",
      "6 5\n",
      "7 6\n"
     ]
    }
   ],
   "source": [
    "for i in range(len(t)):\n",
    "    print(i,t[i])"
   ]
  },
  {
   "cell_type": "code",
   "execution_count": 54,
   "metadata": {},
   "outputs": [
    {
     "data": {
      "text/plain": [
       "[0, 1, 2, 3, 4, 5, 6, 7]"
      ]
     },
     "execution_count": 54,
     "metadata": {},
     "output_type": "execute_result"
    }
   ],
   "source": [
    "list(range(len(t)))"
   ]
  },
  {
   "cell_type": "code",
   "execution_count": 51,
   "metadata": {},
   "outputs": [
    {
     "name": "stdout",
     "output_type": "stream",
     "text": [
      "0 3\n",
      "1 23\n",
      "2 45\n",
      "3 67\n",
      "4 2\n",
      "5 4\n",
      "6 5\n",
      "7 6\n"
     ]
    }
   ],
   "source": [
    "t = (3,23,45,67,2,4,5,6)\n",
    "\n",
    "for i in range(len(t)):\n",
    "    print(i,t[i])\n"
   ]
  },
  {
   "cell_type": "code",
   "execution_count": 60,
   "metadata": {},
   "outputs": [
    {
     "name": "stdout",
     "output_type": "stream",
     "text": [
      "0 i\n",
      "1 n\n",
      "2 e\n",
      "3 u\n",
      "4 r\n",
      "5 o\n",
      "6 n\n"
     ]
    }
   ],
   "source": [
    "s = \"ineuron\"\n",
    "for i in range(len(s)) : \n",
    "    print(i , s[i])"
   ]
  },
  {
   "cell_type": "code",
   "execution_count": 61,
   "metadata": {},
   "outputs": [
    {
     "data": {
      "text/plain": [
       "'ineuron'"
      ]
     },
     "execution_count": 61,
     "metadata": {},
     "output_type": "execute_result"
    }
   ],
   "source": [
    "s "
   ]
  },
  {
   "cell_type": "code",
   "execution_count": 69,
   "metadata": {},
   "outputs": [
    {
     "name": "stdout",
     "output_type": "stream",
     "text": [
      "6 n\n",
      "5 o\n",
      "4 r\n",
      "3 u\n",
      "2 e\n",
      "1 n\n",
      "0 i\n"
     ]
    }
   ],
   "source": [
    "for i in range(len(s)-1 , -1, -1):\n",
    "    print(i , s[i])"
   ]
  },
  {
   "cell_type": "code",
   "execution_count": 70,
   "metadata": {},
   "outputs": [
    {
     "data": {
      "text/plain": [
       "{'key1': 'sudh', 'contact': 'sudhanshu@ineuron.ai', 'position': 'xyz'}"
      ]
     },
     "execution_count": 70,
     "metadata": {},
     "output_type": "execute_result"
    }
   ],
   "source": [
    "d"
   ]
  },
  {
   "cell_type": "code",
   "execution_count": 74,
   "metadata": {},
   "outputs": [
    {
     "name": "stdout",
     "output_type": "stream",
     "text": [
      "('key1', 'sudh') <class 'tuple'> <class 'str'>\n",
      "('contact', 'sudhanshu@ineuron.ai') <class 'tuple'> <class 'str'>\n",
      "('position', 'xyz') <class 'tuple'> <class 'str'>\n"
     ]
    }
   ],
   "source": [
    "for i in d.items():\n",
    "    print(i , type(i) , type(i[1]))"
   ]
  },
  {
   "cell_type": "code",
   "execution_count": 75,
   "metadata": {},
   "outputs": [],
   "source": [
    "l = [\"sudh\" , \"kuamr\" , 3234545 , \"sudhanshu@ineuron.ai\" , 345, 34345353]\n",
    "l1 = []\n",
    "for i in l :\n",
    "    if type(i) == int :\n",
    "        l1.append(i)\n",
    "\n"
   ]
  },
  {
   "cell_type": "code",
   "execution_count": 76,
   "metadata": {},
   "outputs": [
    {
     "data": {
      "text/plain": [
       "[3234545, 345, 34345353]"
      ]
     },
     "execution_count": 76,
     "metadata": {},
     "output_type": "execute_result"
    }
   ],
   "source": [
    "l1"
   ]
  },
  {
   "cell_type": "code",
   "execution_count": 77,
   "metadata": {},
   "outputs": [],
   "source": [
    " d = {1: 3345345  , \"name\" : \"sudh\" , \"email_id\" : \"sudhanshu@ineuron.ai\" , 234 : \"fsfddsf\" , \"43\" : \"sfsaf\" , 234 : \"3454\"}"
   ]
  },
  {
   "cell_type": "code",
   "execution_count": 79,
   "metadata": {},
   "outputs": [
    {
     "name": "stdout",
     "output_type": "stream",
     "text": [
      "1 : 3345345\n",
      "234 : 3454\n"
     ]
    }
   ],
   "source": [
    "for i in d :\n",
    "    if type(i) == int :\n",
    "        print(i , \":\"  , d[i])"
   ]
  },
  {
   "cell_type": "code",
   "execution_count": 80,
   "metadata": {},
   "outputs": [],
   "source": [
    "s = \"aaaabbccd\""
   ]
  },
  {
   "cell_type": "code",
   "execution_count": 83,
   "metadata": {},
   "outputs": [
    {
     "name": "stdout",
     "output_type": "stream",
     "text": [
      "b : 2\n",
      "a : 4\n",
      "c : 2\n",
      "d : 1\n"
     ]
    }
   ],
   "source": [
    "for i in set(s):\n",
    "    print(i  , \":\" , s.count(i))    "
   ]
  },
  {
   "cell_type": "code",
   "execution_count": 82,
   "metadata": {},
   "outputs": [
    {
     "data": {
      "text/plain": [
       "4"
      ]
     },
     "execution_count": 82,
     "metadata": {},
     "output_type": "execute_result"
    }
   ],
   "source": [
    "s.count('a')"
   ]
  },
  {
   "cell_type": "code",
   "execution_count": 89,
   "metadata": {},
   "outputs": [
    {
     "name": "stdout",
     "output_type": "stream",
     "text": [
      "3 <class 'int'>\n",
      "4 <class 'int'>\n",
      "5 <class 'int'>\n",
      "3 <class 'int'>\n",
      "4 <class 'int'>\n",
      "6 <class 'int'>\n",
      "5 <class 'int'>\n",
      "4 <class 'int'>\n",
      "6 <class 'int'>\n",
      "4 <class 'int'>\n",
      "6 <class 'int'>\n",
      "4 <class 'int'>\n",
      "3 <class 'int'>\n",
      "5 <class 'int'>\n"
     ]
    }
   ],
   "source": [
    "i = 34534654646435\n",
    "for j in str(i) :\n",
    "    print(int(j ), type(int(j)))"
   ]
  },
  {
   "cell_type": "code",
   "execution_count": 85,
   "metadata": {},
   "outputs": [
    {
     "data": {
      "text/plain": [
       "'34534654646435'"
      ]
     },
     "execution_count": 85,
     "metadata": {},
     "output_type": "execute_result"
    }
   ],
   "source": [
    "str(i)"
   ]
  },
  {
   "cell_type": "code",
   "execution_count": 98,
   "metadata": {},
   "outputs": [],
   "source": [
    "t = (\"sudh\" , \"kumar\" ,[1,2,3,4,5] , (3,4,5,6) , {3:3 , \"key2\" :\"kumar\"})"
   ]
  },
  {
   "cell_type": "code",
   "execution_count": 127,
   "metadata": {},
   "outputs": [],
   "source": [
    "t=(\"sudh\",\"kumar\",[1,3,5,7,4],(3,5,88,4),{3:3,3:\"kjshdf\",\"key1\":\"sudh\",\"key2\":\"kumar\"})"
   ]
  },
  {
   "cell_type": "code",
   "execution_count": 128,
   "metadata": {},
   "outputs": [
    {
     "name": "stdout",
     "output_type": "stream",
     "text": [
      "3\n",
      "3\n",
      "3\n",
      "kjshdf\n"
     ]
    }
   ],
   "source": [
    "for i in t :\n",
    "    if type(i) == list or type(i) == tuple :\n",
    "        for j in i :\n",
    "            if j == 3 :\n",
    "                print(j)\n",
    "    if type(i) == dict :\n",
    "        for k,v  in i.items():\n",
    "            if k == 3 or v == 3 :\n",
    "                print(k)\n",
    "                print(v)\n",
    "        "
   ]
  },
  {
   "cell_type": "code",
   "execution_count": 134,
   "metadata": {},
   "outputs": [],
   "source": [
    "d = {4:5 , \"key1\" : \"sudh\" , \"key2\" : \"kumar\"}"
   ]
  },
  {
   "cell_type": "code",
   "execution_count": 135,
   "metadata": {},
   "outputs": [
    {
     "data": {
      "text/plain": [
       "dict_items([(4, 5), ('key1', 'sudh'), ('key2', 'kumar')])"
      ]
     },
     "execution_count": 135,
     "metadata": {},
     "output_type": "execute_result"
    }
   ],
   "source": [
    "d.items()"
   ]
  },
  {
   "cell_type": "code",
   "execution_count": 137,
   "metadata": {},
   "outputs": [
    {
     "name": "stdout",
     "output_type": "stream",
     "text": [
      "(4, 5)\n",
      "('key1', 'sudh')\n",
      "('key2', 'kumar')\n"
     ]
    }
   ],
   "source": [
    "for i in d.items():\n",
    "    print(i)"
   ]
  },
  {
   "cell_type": "code",
   "execution_count": 105,
   "metadata": {},
   "outputs": [
    {
     "data": {
      "text/plain": [
       "dict_items([(4, 5), ('key1', 'sudh'), ('key2', 'kumar')])"
      ]
     },
     "execution_count": 105,
     "metadata": {},
     "output_type": "execute_result"
    }
   ],
   "source": [
    "d.items()"
   ]
  },
  {
   "cell_type": "code",
   "execution_count": 107,
   "metadata": {},
   "outputs": [],
   "source": [
    "a = 10 \n",
    "b = 20\n",
    "c = 30 "
   ]
  },
  {
   "cell_type": "code",
   "execution_count": 108,
   "metadata": {},
   "outputs": [],
   "source": [
    "a , b , c = 10 , 20 , 30 "
   ]
  },
  {
   "cell_type": "code",
   "execution_count": 109,
   "metadata": {},
   "outputs": [],
   "source": [
    "a,b,c = (10,20,30)"
   ]
  },
  {
   "cell_type": "code",
   "execution_count": 113,
   "metadata": {},
   "outputs": [
    {
     "ename": "IndentationError",
     "evalue": "unindent does not match any outer indentation level (<tokenize>, line 10)",
     "output_type": "error",
     "traceback": [
      "\u001b[1;36m  File \u001b[1;32m\"<tokenize>\"\u001b[1;36m, line \u001b[1;32m10\u001b[0m\n\u001b[1;33m    ineruon      ineruon\u001b[0m\n\u001b[1;37m    ^\u001b[0m\n\u001b[1;31mIndentationError\u001b[0m\u001b[1;31m:\u001b[0m unindent does not match any outer indentation level\n"
     ]
    }
   ],
   "source": [
    "q1 :\n",
    "ineruon \n",
    "ineruon ineruon \n",
    "ineruon ineruon ineruon\n",
    "ineruon ineruon ineruon ineruon\n",
    "\n",
    "q2 - \n",
    "\n",
    "          ineruon\n",
    "    ineruon      ineruon\n",
    "ineruon\t\tineruon \tineruon\n",
    "\tineruon\t\t ineruon\n",
    "\t\t  ineruon\n",
    "\n",
    "l = [[1,2,3,4] , (2,3,4,5,6) , (3,4,5,6,7) , set([23,4,5,45,4,4,5,45,45,4,5]) , {'k1' :\"sudh\" , \"k2\" : \"ineuron\",\"k3\":\n",
    "            \"kumar\" , 3:6 , 7:8} , [\"ineuron\" , \"data science \"]]\n",
    "\n",
    "q3 : Try to extract all the list entity \n",
    "q4 : Try to extract all the dict enteties\n",
    "q5 : Try to extract all the tuples entities\n",
    "q6 : Try to extract all the numerical data it may b a part of dict key and values \n",
    "q7 : Try to give summation of all the numeric data \n",
    "q8 : Try to filter out all the odd values out all numeric data which is a part of a list \n",
    "q9 : Try to extract \"ineruon\" out of this data\n",
    "q10 :Try to find out a number of occurances of all the data \n",
    "q11 : Try to find out number of keys in dict element\n",
    "q12 : Try to filter out all the string data \n",
    "q13 : Try to Find  out alphanum in data\n",
    "q14 : Try to find out multiplication of all numeric value in  the individual collection inside dataset \n",
    "q15 : Try to unwrape all the collection inside collection and create a flat list \n",
    "    \n",
    "    \n",
    "before 29th may 2022 3 PM IST you have to send an answer to me or to shivan \n",
    "sudhanshu@ineuron.ai\n",
    "shivan@ineuron.ai"
   ]
  },
  {
   "cell_type": "code",
   "execution_count": 115,
   "metadata": {},
   "outputs": [
    {
     "ename": "TypeError",
     "evalue": "unhashable type: 'list'",
     "output_type": "error",
     "traceback": [
      "\u001b[1;31m---------------------------------------------------------------------------\u001b[0m",
      "\u001b[1;31mTypeError\u001b[0m                                 Traceback (most recent call last)",
      "\u001b[1;32m~\\AppData\\Local\\Temp/ipykernel_36256/3516709124.py\u001b[0m in \u001b[0;36m<module>\u001b[1;34m\u001b[0m\n\u001b[1;32m----> 1\u001b[1;33m \u001b[0md\u001b[0m\u001b[1;33m=\u001b[0m \u001b[1;33m{\u001b[0m\u001b[1;34m'key1'\u001b[0m \u001b[1;33m:\u001b[0m\u001b[1;34m\"sudh\"\u001b[0m \u001b[1;33m,\u001b[0m \u001b[1;33m(\u001b[0m\u001b[1;36m3\u001b[0m\u001b[1;33m,\u001b[0m\u001b[1;36m4\u001b[0m\u001b[1;33m,\u001b[0m\u001b[1;36m5\u001b[0m\u001b[1;33m,\u001b[0m\u001b[1;36m65\u001b[0m\u001b[1;33m)\u001b[0m \u001b[1;33m:\u001b[0m \u001b[1;34m\"fdsfdsd\"\u001b[0m \u001b[1;33m,\u001b[0m \u001b[1;33m[\u001b[0m\u001b[1;36m3\u001b[0m\u001b[1;33m,\u001b[0m\u001b[1;36m4\u001b[0m\u001b[1;33m,\u001b[0m\u001b[1;36m5\u001b[0m\u001b[1;33m,\u001b[0m\u001b[1;36m6\u001b[0m\u001b[1;33m]\u001b[0m \u001b[1;33m:\u001b[0m\u001b[1;34m\"345\"\u001b[0m\u001b[1;33m}\u001b[0m\u001b[1;33m\u001b[0m\u001b[1;33m\u001b[0m\u001b[0m\n\u001b[0m",
      "\u001b[1;31mTypeError\u001b[0m: unhashable type: 'list'"
     ]
    }
   ],
   "source": [
    "d= {'key1' :\"sudh\" , (3,4,5,65) : \"fdsfdsd\" , [3,4,5,6] :\"345\"}"
   ]
  },
  {
   "cell_type": "code",
   "execution_count": 116,
   "metadata": {},
   "outputs": [
    {
     "name": "stdout",
     "output_type": "stream",
     "text": [
      "3\n",
      "3\n",
      "3\n",
      "3\n"
     ]
    }
   ],
   "source": [
    "for i in t:\n",
    "    if type(i) == list or type(i) == tuple:\n",
    "        for j in i:\n",
    "            if j == 3:\n",
    "                print(j)\n",
    "    if type(i) == dict:\n",
    "        for k,v in i.items():\n",
    "            if k == 3 or v == 3:\n",
    "                print(k)\n",
    "                print(v)"
   ]
  },
  {
   "cell_type": "code",
   "execution_count": 123,
   "metadata": {},
   "outputs": [
    {
     "ename": "KeyError",
     "evalue": "'a'",
     "output_type": "error",
     "traceback": [
      "\u001b[1;31m---------------------------------------------------------------------------\u001b[0m",
      "\u001b[1;31mKeyError\u001b[0m                                  Traceback (most recent call last)",
      "\u001b[1;32m~\\AppData\\Local\\Temp/ipykernel_36256/3418551350.py\u001b[0m in \u001b[0;36m<module>\u001b[1;34m\u001b[0m\n\u001b[0;32m      1\u001b[0m \u001b[0md1\u001b[0m \u001b[1;33m=\u001b[0m \u001b[1;33m{\u001b[0m\u001b[1;33m}\u001b[0m\u001b[1;33m\u001b[0m\u001b[1;33m\u001b[0m\u001b[0m\n\u001b[1;32m----> 2\u001b[1;33m \u001b[0md1\u001b[0m\u001b[1;33m[\u001b[0m\u001b[1;34m'a'\u001b[0m\u001b[1;33m]\u001b[0m \u001b[1;33m==\u001b[0m \u001b[1;32mNone\u001b[0m\u001b[1;33m\u001b[0m\u001b[1;33m\u001b[0m\u001b[0m\n\u001b[0m",
      "\u001b[1;31mKeyError\u001b[0m: 'a'"
     ]
    }
   ],
   "source": [
    "d1 = {}\n",
    "d1['a'] == None"
   ]
  },
  {
   "cell_type": "code",
   "execution_count": 122,
   "metadata": {},
   "outputs": [
    {
     "ename": "KeyError",
     "evalue": "'a'",
     "output_type": "error",
     "traceback": [
      "\u001b[1;31m---------------------------------------------------------------------------\u001b[0m",
      "\u001b[1;31mKeyError\u001b[0m                                  Traceback (most recent call last)",
      "\u001b[1;32m~\\AppData\\Local\\Temp/ipykernel_36256/983012404.py\u001b[0m in \u001b[0;36m<module>\u001b[1;34m\u001b[0m\n\u001b[0;32m      3\u001b[0m \u001b[1;33m\u001b[0m\u001b[0m\n\u001b[0;32m      4\u001b[0m \u001b[1;32mfor\u001b[0m \u001b[0mi\u001b[0m \u001b[1;32min\u001b[0m \u001b[0ms\u001b[0m\u001b[1;33m:\u001b[0m\u001b[1;33m\u001b[0m\u001b[1;33m\u001b[0m\u001b[0m\n\u001b[1;32m----> 5\u001b[1;33m     \u001b[1;32mif\u001b[0m \u001b[0md1\u001b[0m\u001b[1;33m[\u001b[0m\u001b[0mi\u001b[0m\u001b[1;33m]\u001b[0m\u001b[1;33m==\u001b[0m\u001b[1;32mNone\u001b[0m \u001b[1;33m:\u001b[0m\u001b[1;33m\u001b[0m\u001b[1;33m\u001b[0m\u001b[0m\n\u001b[0m\u001b[0;32m      6\u001b[0m         \u001b[0mkey\u001b[0m\u001b[1;33m=\u001b[0m\u001b[0mi\u001b[0m\u001b[1;33m\u001b[0m\u001b[1;33m\u001b[0m\u001b[0m\n\u001b[0;32m      7\u001b[0m         \u001b[0md1\u001b[0m\u001b[1;33m=\u001b[0m\u001b[1;33m{\u001b[0m\u001b[0mkey\u001b[0m\u001b[1;33m:\u001b[0m\u001b[1;36m0\u001b[0m\u001b[1;33m}\u001b[0m\u001b[1;33m\u001b[0m\u001b[1;33m\u001b[0m\u001b[0m\n",
      "\u001b[1;31mKeyError\u001b[0m: 'a'"
     ]
    }
   ],
   "source": [
    "s=\"aaaabbccd\"\n",
    "d1={}\n",
    "\n",
    "for i in s:\n",
    "    if d1[i]==None :\n",
    "        key=i\n",
    "        d1={key:0}\n",
    "    else:\n",
    "        d1[i]=d1[i]+1\n",
    "print(d1)\n"
   ]
  },
  {
   "cell_type": "code",
   "execution_count": 120,
   "metadata": {},
   "outputs": [],
   "source": [
    "s=\"aaaabbccd\"\n",
    "d = {}\n",
    "for i in set(s) : \n",
    "    d[i] =  s.count(i)\n",
    "    "
   ]
  },
  {
   "cell_type": "code",
   "execution_count": 121,
   "metadata": {},
   "outputs": [
    {
     "data": {
      "text/plain": [
       "{'b': 2, 'a': 4, 'c': 2, 'd': 1}"
      ]
     },
     "execution_count": 121,
     "metadata": {},
     "output_type": "execute_result"
    }
   ],
   "source": [
    "d"
   ]
  },
  {
   "cell_type": "code",
   "execution_count": 130,
   "metadata": {},
   "outputs": [
    {
     "data": {
      "text/plain": [
       "([6, 5, 4, 3, 2, 1, 0], 'ineuron')"
      ]
     },
     "execution_count": 130,
     "metadata": {},
     "output_type": "execute_result"
    }
   ],
   "source": [
    "l = list(range(6,-1,-1))\n",
    "s = 'ineuron'\n",
    "t = (l,s)\n",
    "\n",
    "t"
   ]
  },
  {
   "cell_type": "code",
   "execution_count": 131,
   "metadata": {},
   "outputs": [
    {
     "name": "stdout",
     "output_type": "stream",
     "text": [
      "([6, 5, 4, 3, 2, 1, 0], 'ineuron')\n"
     ]
    },
    {
     "ename": "ValueError",
     "evalue": "too many values to unpack (expected 2)",
     "output_type": "error",
     "traceback": [
      "\u001b[1;31m---------------------------------------------------------------------------\u001b[0m",
      "\u001b[1;31mValueError\u001b[0m                                Traceback (most recent call last)",
      "\u001b[1;32m~\\AppData\\Local\\Temp/ipykernel_36256/401628409.py\u001b[0m in \u001b[0;36m<module>\u001b[1;34m\u001b[0m\n\u001b[0;32m      1\u001b[0m \u001b[0mprint\u001b[0m\u001b[1;33m(\u001b[0m\u001b[0mt\u001b[0m\u001b[1;33m)\u001b[0m\u001b[1;33m\u001b[0m\u001b[1;33m\u001b[0m\u001b[0m\n\u001b[1;32m----> 2\u001b[1;33m \u001b[1;32mfor\u001b[0m \u001b[0mi\u001b[0m\u001b[1;33m,\u001b[0m\u001b[0mj\u001b[0m \u001b[1;32min\u001b[0m \u001b[0mt\u001b[0m\u001b[1;33m:\u001b[0m\u001b[1;33m\u001b[0m\u001b[1;33m\u001b[0m\u001b[0m\n\u001b[0m\u001b[0;32m      3\u001b[0m     \u001b[0mprint\u001b[0m\u001b[1;33m(\u001b[0m\u001b[0mi\u001b[0m\u001b[1;33m,\u001b[0m\u001b[0mj\u001b[0m\u001b[1;33m)\u001b[0m\u001b[1;33m\u001b[0m\u001b[1;33m\u001b[0m\u001b[0m\n",
      "\u001b[1;31mValueError\u001b[0m: too many values to unpack (expected 2)"
     ]
    }
   ],
   "source": [
    "print(t)\n",
    "for i,j in t:\n",
    "    print(i,j)"
   ]
  },
  {
   "cell_type": "code",
   "execution_count": 132,
   "metadata": {},
   "outputs": [
    {
     "data": {
      "text/plain": [
       "{'b': 2, 'a': 4, 'c': 2, 'd': 1}"
      ]
     },
     "execution_count": 132,
     "metadata": {},
     "output_type": "execute_result"
    }
   ],
   "source": [
    "d"
   ]
  },
  {
   "cell_type": "code",
   "execution_count": 133,
   "metadata": {},
   "outputs": [
    {
     "data": {
      "text/plain": [
       "dict_items([('b', 2), ('a', 4), ('c', 2), ('d', 1)])"
      ]
     },
     "execution_count": 133,
     "metadata": {},
     "output_type": "execute_result"
    }
   ],
   "source": [
    "d.items()"
   ]
  },
  {
   "cell_type": "code",
   "execution_count": null,
   "metadata": {},
   "outputs": [],
   "source": [
    "1.\ti = j = [3]\n",
    "              i += j\n",
    "              print(i,j)\n",
    "\n",
    "\n",
    "2.\tset = {\"python\", \"coding\", \"tips\", \"for\", \"beginners\"}\n",
    "               print(set)\n",
    "              ''.join(set)\n",
    "3.\ttuple = (\"python\", \"coding\", \"tips\", \"for\", \"beginners\")\n",
    "               print(tuple)\n",
    "              ''.join(tuple)\n",
    "4.\tprint(dict((\"py\", \"th\", \"on\")))\n",
    "5.\tx, y = (0,1) if True else None, None\n",
    "print(x)\n",
    "6.\ti = j = [3]\n",
    "i += j\n",
    "print(i,j)\n"
   ]
  },
  {
   "cell_type": "code",
   "execution_count": 139,
   "metadata": {},
   "outputs": [
    {
     "name": "stdout",
     "output_type": "stream",
     "text": [
      "[3, 3] [3]\n"
     ]
    }
   ],
   "source": [
    "i = j = [3]\n",
    "i = [3] + [3]\n",
    "print(i,j)"
   ]
  },
  {
   "cell_type": "code",
   "execution_count": 142,
   "metadata": {},
   "outputs": [
    {
     "name": "stdout",
     "output_type": "stream",
     "text": [
      "{'tips', 'for', 'coding', 'python', 'beginners'}\n"
     ]
    },
    {
     "data": {
      "text/plain": [
       "'tips for coding python beginners'"
      ]
     },
     "execution_count": 142,
     "metadata": {},
     "output_type": "execute_result"
    }
   ],
   "source": [
    "set = {\"python\", \"coding\", \"tips\", \"for\", \"beginners\"}\n",
    "print(set)\n",
    "' '.join(set)"
   ]
  },
  {
   "cell_type": "code",
   "execution_count": 144,
   "metadata": {},
   "outputs": [
    {
     "name": "stdout",
     "output_type": "stream",
     "text": [
      "('python', 'coding', 'tips', 'for', 'beginners')\n"
     ]
    },
    {
     "data": {
      "text/plain": [
       "'python coding tips for beginners'"
      ]
     },
     "execution_count": 144,
     "metadata": {},
     "output_type": "execute_result"
    }
   ],
   "source": [
    "tuple = (\"python\", \"coding\", \"tips\", \"for\", \"beginners\")\n",
    "print(tuple)\n",
    "' '.join(tuple)"
   ]
  },
  {
   "cell_type": "code",
   "execution_count": 145,
   "metadata": {},
   "outputs": [
    {
     "name": "stdout",
     "output_type": "stream",
     "text": [
      "{'p': 'y', 't': 'h', 'o': 'n'}\n"
     ]
    }
   ],
   "source": [
    "print(dict((\"py\", \"th\", \"on\")))"
   ]
  },
  {
   "cell_type": "code",
   "execution_count": 159,
   "metadata": {},
   "outputs": [
    {
     "name": "stdout",
     "output_type": "stream",
     "text": [
      "(0, 1)\n"
     ]
    }
   ],
   "source": [
    "x, y = (0,1) if True else None , None\n",
    "print(x)"
   ]
  },
  {
   "cell_type": "code",
   "execution_count": null,
   "metadata": {},
   "outputs": [],
   "source": [
    "i = j = [3]\n",
    "i += j\n",
    "print(i,j)"
   ]
  },
  {
   "cell_type": "code",
   "execution_count": 160,
   "metadata": {},
   "outputs": [
    {
     "name": "stdout",
     "output_type": "stream",
     "text": [
      "          * \n",
      "        * * * \n",
      "      * * * * * \n",
      "    * * * * * * * \n",
      "  * * * * * * * * * \n",
      "    * * * * * * * \n",
      "      * * * * * \n",
      "        * * * \n",
      "          * \n"
     ]
    }
   ],
   "source": [
    "n=5\n",
    "for i in range(n-1):\n",
    "    for j in range(i,n):\n",
    "        print(\" \",end=\" \")\n",
    "    for j in range(i):\n",
    "        print(\"*\",end=\" \")\n",
    "    for j in range(i+1):\n",
    "        print(\"*\",end=\" \")\n",
    "    print()\n",
    "for i in range(n):    \n",
    "    for j in range(i+1):\n",
    "        print(\" \",end=\" \")\n",
    "    for j in range(i,n-1):\n",
    "        print(\"*\",end=\" \")\n",
    "    for j in range(i,n):\n",
    "        print(\"*\",end=\" \")\n",
    "    print()\n"
   ]
  },
  {
   "cell_type": "code",
   "execution_count": 169,
   "metadata": {},
   "outputs": [],
   "source": [
    "s = {1,1,1,11,1,1,4,4,4,4}"
   ]
  },
  {
   "cell_type": "code",
   "execution_count": 170,
   "metadata": {},
   "outputs": [],
   "source": [
    "f = frozenset((1,2,2,3,34,4,4,4,4))"
   ]
  },
  {
   "cell_type": "code",
   "execution_count": 171,
   "metadata": {},
   "outputs": [],
   "source": [
    "s.add(3)"
   ]
  },
  {
   "cell_type": "code",
   "execution_count": 177,
   "metadata": {},
   "outputs": [
    {
     "name": "stdout",
     "output_type": "stream",
     "text": [
      "sudh*\n",
      "sudh*sudh*\n",
      "sudh*sudh*sudh*\n",
      "sudh*sudh*sudh*sudh*\n"
     ]
    }
   ],
   "source": [
    "for i in range(4) :\n",
    "    for j in range (0 , i+1) :\n",
    "        print(\"sudh\" , end = \"*\")\n",
    "    print()"
   ]
  },
  {
   "cell_type": "code",
   "execution_count": 32,
   "metadata": {},
   "outputs": [],
   "source": [
    "l= [(3,4,5,6) , [2,4,5,5,6] , {'k1' : 'v1' , 'k2' :'v2'}]\n",
    "l1 = []"
   ]
  },
  {
   "cell_type": "code",
   "execution_count": 35,
   "metadata": {},
   "outputs": [],
   "source": [
    "for i in l :\n",
    "    if type(i) == list or type( i )== tuple :\n",
    "        for j in i :\n",
    "            l1.append(j)\n",
    "    if type(i) == dict :\n",
    "        for k in i.items():\n",
    "            for m in k :\n",
    "                l1.append(m)    "
   ]
  },
  {
   "cell_type": "code",
   "execution_count": 34,
   "metadata": {},
   "outputs": [
    {
     "data": {
      "text/plain": [
       "[3, 4, 5, 6, 2, 4, 5, 5, 6, 'k1', 'v1', 'k2', 'v2']"
      ]
     },
     "execution_count": 34,
     "metadata": {},
     "output_type": "execute_result"
    }
   ],
   "source": [
    "l1"
   ]
  },
  {
   "cell_type": "code",
   "execution_count": 37,
   "metadata": {},
   "outputs": [
    {
     "data": {
      "text/plain": [
       "1"
      ]
     },
     "execution_count": 37,
     "metadata": {},
     "output_type": "execute_result"
    }
   ],
   "source": [
    "5%2"
   ]
  },
  {
   "cell_type": "code",
   "execution_count": 39,
   "metadata": {},
   "outputs": [
    {
     "name": "stdout",
     "output_type": "stream",
     "text": [
      "3\n",
      "3\n",
      "3\n",
      "3\n"
     ]
    }
   ],
   "source": [
    "t = (\"sudh\" , \"kumar\" , [1,2,3,4,5] , (3,4,5,6) , {3:3 , \"key2\":\"kumar\"})\n",
    "for i in t :\n",
    "    if type(i) == list or type(i) == tuple :\n",
    "        for j in i :\n",
    "            if j == 3 :\n",
    "                print(j)\n",
    "    if type(i) == dict : \n",
    "        for k,v  in i.items():\n",
    "            if k == 3 or v == 3 :\n",
    "                    print(k)\n",
    "                    print(v)\n"
   ]
  },
  {
   "cell_type": "code",
   "execution_count": 41,
   "metadata": {},
   "outputs": [
    {
     "name": "stdout",
     "output_type": "stream",
     "text": [
      "No\n"
     ]
    }
   ],
   "source": [
    "a = \"sudh\"\n",
    "\n",
    "if \"3\" in a:\n",
    "    print(\"yes\")\n",
    "else:\n",
    "    print(\"No\")\n"
   ]
  },
  {
   "cell_type": "code",
   "execution_count": null,
   "metadata": {},
   "outputs": [],
   "source": [
    "a = \"sudh\"\n",
    "\n",
    "if 3 in a:\n",
    "    print(\"yes\")\n",
    "else:\n",
    "    print(\"No\")\n",
    "\n",
    "\n",
    "\n",
    "b = [\"sudh\",\"kumar\",\"vyas\"]\n",
    "\n",
    "if 3 in b:\n",
    "    print(\"yes\")\n",
    "else:\n",
    "    print(\"No\")\n"
   ]
  },
  {
   "cell_type": "code",
   "execution_count": 45,
   "metadata": {},
   "outputs": [
    {
     "name": "stdout",
     "output_type": "stream",
     "text": [
      "sudh \n",
      "\n",
      "sudh sudh \n",
      "\n",
      "sudh sudh sudh \n",
      "\n",
      "sudh sudh sudh sudh \n",
      "\n"
     ]
    }
   ],
   "source": [
    "n = 4\n",
    "for i in range(4) :\n",
    "    for j in range(0,i+1) :\n",
    "        print(\"sudh\" , end =\" \")\n",
    "    print(\"\\n\")\n"
   ]
  },
  {
   "cell_type": "code",
   "execution_count": 48,
   "metadata": {},
   "outputs": [
    {
     "name": "stdout",
     "output_type": "stream",
     "text": [
      "  sudh \n",
      " sudh sudh sudh \n",
      "sudh sudh sudh sudh sudh \n"
     ]
    }
   ],
   "source": [
    "n=3\n",
    "for i in range (n):\n",
    "    for j in range(i,n-1):\n",
    "        print(\"\" *len(\"sudh\"),end= \" \")\n",
    "    for j in range (i+1):\n",
    "        print(\"sudh\",end=\" \" )\n",
    "    for j in range(i):\n",
    "        print(\"sudh\",end= \" \")\n",
    "    print()\n"
   ]
  },
  {
   "cell_type": "code",
   "execution_count": 50,
   "metadata": {},
   "outputs": [
    {
     "name": "stdout",
     "output_type": "stream",
     "text": [
      "3\n",
      "3\n",
      "3\n",
      "3\n"
     ]
    }
   ],
   "source": [
    "for i in t :\n",
    "    if type(i) == list or type (i) == tuple :\n",
    "        for j in i :\n",
    "            if j ==3 :\n",
    "                print(j)\n",
    "    if type(i) ==dict :\n",
    "            for k,v in i . items():\n",
    "                if k == 3 or v == 3:\n",
    "                    print(k)   \n",
    "                    print(v)\n"
   ]
  },
  {
   "cell_type": "code",
   "execution_count": 54,
   "metadata": {},
   "outputs": [
    {
     "name": "stdout",
     "output_type": "stream",
     "text": [
      "890\n"
     ]
    }
   ],
   "source": [
    "b = input()"
   ]
  },
  {
   "cell_type": "code",
   "execution_count": null,
   "metadata": {},
   "outputs": [],
   "source": []
  }
 ],
 "metadata": {
  "kernelspec": {
   "display_name": "Python 3",
   "language": "python",
   "name": "python3"
  },
  "language_info": {
   "codemirror_mode": {
    "name": "ipython",
    "version": 3
   },
   "file_extension": ".py",
   "mimetype": "text/x-python",
   "name": "python",
   "nbconvert_exporter": "python",
   "pygments_lexer": "ipython3",
   "version": "3.7.3"
  }
 },
 "nbformat": 4,
 "nbformat_minor": 5
}
