{
 "cells": [
  {
   "cell_type": "code",
   "execution_count": null,
   "metadata": {},
   "outputs": [],
   "source": [
    "#q1 How do you distinguish between shutil.copy() and shutil.copytree()?"
   ]
  },
  {
   "cell_type": "code",
   "execution_count": null,
   "metadata": {},
   "outputs": [],
   "source": [
    "shutil.copy() method is used to copy the contents of a file from one file to another file/folder. \n",
    "It primarily takes two arguments src and dest. src represents the file to be copied where as destination \n",
    "refers to the file/folder to where the src data should be copied. If dest is a folder name the src with exact name will\n",
    "be copied to the dest folder whereas if its a file then the contents of src will be copied to dest where dest retains it name.\n"
   ]
  },
  {
   "cell_type": "code",
   "execution_count": null,
   "metadata": {},
   "outputs": [],
   "source": [
    "shutil.copytree() function is used to copy the entire contents of a folder to other folder.\n",
    "It also takes two arguments src & dest. It copies all the content recursively and stores it in dest. \n",
    "The important point to note here is that dest must not exist prior to this and it will be created during the copy operation.\n",
    "Permissions and times of directories are copied with shutil.copystat() and individual files are copied using shutil.copy2() by\n",
    "default which can be modified using copy_function attribute."
   ]
  },
  {
   "cell_type": "code",
   "execution_count": null,
   "metadata": {},
   "outputs": [],
   "source": [
    "#q2 What function is used to rename files??"
   ]
  },
  {
   "cell_type": "code",
   "execution_count": null,
   "metadata": {},
   "outputs": [],
   "source": [
    "os.rename() function is used to rename files or directories using a python program.\n",
    "this function takes two arguments src and dest. src represents the name file/directory which we want to rename,\n",
    "whereas dest represents the new name of the file/directory."
   ]
  },
  {
   "cell_type": "code",
   "execution_count": null,
   "metadata": {},
   "outputs": [],
   "source": [
    "#q3What is the difference between the delete functions in the send2trash and shutil modules?"
   ]
  },
  {
   "cell_type": "code",
   "execution_count": null,
   "metadata": {},
   "outputs": [],
   "source": [
    "Shutil module provides a funciton called as shutil.rmtree() which deletes a directory and all of its contents\n",
    "The other functions with similar functionality are os.remove() which removes a file. os.rmdir() removes a empty directory. \n",
    "The problem with these functions is once a file is deleted. it will be lost permanently and if a file is deleted accidentally\n",
    "using these methods there is no way we can recover the deleted file"
   ]
  },
  {
   "cell_type": "code",
   "execution_count": null,
   "metadata": {},
   "outputs": [],
   "source": [
    "Where as send2trash module provides a function called send2trash.send2trash() to delete a file/directory. \n",
    "These methods moves the files/directories to trash folder instead of permanently deleting them.\n",
    "Hence if a file/folder is deleted accidentally using the send2trash.send2trash() it can be still recovered from trash folder.\n",
    "send2trash is not included with python standard libary like os & shutil modules. So, it needs to be installed explicitly using\n",
    "the command !pip install send2trash"
   ]
  },
  {
   "cell_type": "code",
   "execution_count": null,
   "metadata": {},
   "outputs": [],
   "source": [
    "#q4ZipFile objects have a close() method just like File objects’ close() method. What ZipFile method is equivalent\n",
    "to File objects’ open() method?"
   ]
  },
  {
   "cell_type": "code",
   "execution_count": null,
   "metadata": {},
   "outputs": [],
   "source": [
    "ZipFile Module provides a method called as zipfile.ZipFile() to read and write to zipFiles. \n",
    "it takes arugments such as filename and mode etc zipfile.ZipFile('filename', mode = 'r')"
   ]
  },
  {
   "cell_type": "code",
   "execution_count": null,
   "metadata": {},
   "outputs": [],
   "source": [
    "#q5Create a programme that searches a folder tree for files with a certain file extension (such as .pdf or .jpg).\n",
    "Copy these files from whatever location they are in to a new folder"
   ]
  },
  {
   "cell_type": "code",
   "execution_count": null,
   "metadata": {},
   "outputs": [],
   "source": []
  }
 ],
 "metadata": {
  "kernelspec": {
   "display_name": "Python 3",
   "language": "python",
   "name": "python3"
  },
  "language_info": {
   "codemirror_mode": {
    "name": "ipython",
    "version": 3
   },
   "file_extension": ".py",
   "mimetype": "text/x-python",
   "name": "python",
   "nbconvert_exporter": "python",
   "pygments_lexer": "ipython3",
   "version": "3.7.3"
  }
 },
 "nbformat": 4,
 "nbformat_minor": 2
}
