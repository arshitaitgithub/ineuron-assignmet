{
 "cells": [
  {
   "cell_type": "markdown",
   "metadata": {},
   "source": [
    "# Q1 What is the relationship between def statements and lambda expressions ?"
   ]
  },
  {
   "cell_type": "code",
   "execution_count": null,
   "metadata": {},
   "outputs": [],
   "source": [
    "def statement is used to create a normal function. where as lamba expressions are used to create Anonymous functions.\n",
    "which can be assigned to a variable and can be called using the variable later in function."
   ]
  },
  {
   "cell_type": "markdown",
   "metadata": {},
   "source": [
    "# Q2 What is the benefit of lambda?"
   ]
  },
  {
   "cell_type": "code",
   "execution_count": null,
   "metadata": {},
   "outputs": [],
   "source": [
    " Can be used to create Nameless/Anonymous functions inside some complex functions if we are planning to use it only once.\n",
    "    Moderate to small functions can be created in a single line Fuctions created using lambda expressions can be assigned to a\n",
    "    variable and can be used by simply calling the variable"
   ]
  },
  {
   "cell_type": "markdown",
   "metadata": {},
   "source": [
    "# Q3Compare and contrast map, filter, and reduce."
   ]
  },
  {
   "cell_type": "code",
   "execution_count": null,
   "metadata": {},
   "outputs": [],
   "source": [
    "The differences between map, filter and reduce are: \n",
    "map(): The map() function is a type of higher-order. This function takes another function as a parameter along with a sequence\n",
    "    of iterables and returns an output after applying the function\n",
    "        to each iterable present in the sequence.\n",
    "\n",
    "filter(): The filter() function is used to create an output list consisting of values for which the function returns true.\n",
    "\n",
    "reduce(): The reduce() function, as the name describes, applies a given function to the iterables and returns a single value"
   ]
  },
  {
   "cell_type": "code",
   "execution_count": 1,
   "metadata": {},
   "outputs": [
    {
     "name": "stdout",
     "output_type": "stream",
     "text": [
      "Map -> [2, 4, 6, 8]\n",
      "Filter -> [1, 3]\n",
      "Reduce -> 21\n"
     ]
    }
   ],
   "source": [
    "from functools import reduce\n",
    "# map function\n",
    "print('Map ->',list(map(lambda x:x+x, [1,2,3,4])))\n",
    "# fitler function\n",
    "print('Filter ->',list(filter(lambda x:x%2 !=0, [1,2,3,4])))\n",
    "# reduce function\n",
    "print('Reduce ->',reduce(lambda x,y:x+y, [1,2,3,4,5,6]))"
   ]
  },
  {
   "cell_type": "markdown",
   "metadata": {},
   "source": [
    "# Q4 What are function annotations, and how are they used?"
   ]
  },
  {
   "cell_type": "code",
   "execution_count": null,
   "metadata": {},
   "outputs": [],
   "source": [
    "Function annotations provide a way of associating various parts of a function with arbitrary pythoncexpressions at compile time.\n",
    "Annotations of simple parameters def func(x: expression, y: expression = 20): Whereas the annotations for excess parameters are\n",
    "     as − def func (args: expression, kwargs: expression):"
   ]
  },
  {
   "cell_type": "markdown",
   "metadata": {},
   "source": [
    "# Q5What are recursive functions, and how are they used?"
   ]
  },
  {
   "cell_type": "code",
   "execution_count": null,
   "metadata": {},
   "outputs": [],
   "source": [
    " A recursive function is a function that calls itself during its execution. The process may repeat several times, outputting\n",
    "    the result and the end of each iteration."
   ]
  },
  {
   "cell_type": "markdown",
   "metadata": {},
   "source": [
    "# Q6 What are some general design guidelines for coding functions?"
   ]
  },
  {
   "cell_type": "code",
   "execution_count": null,
   "metadata": {},
   "outputs": [],
   "source": [
    "1.always use a docstring to explain the functionality of the function\n",
    "\n",
    "2.avoid using or limited use of global variables\n",
    "\n",
    "3.Proper Identation to increase the code readability\n",
    "\n",
    "4.try to follow a naming convention for function names (pascalCase or camelCase) and stick with the same convention throughout\n",
    "the application.\n",
    "\n",
    "5.Avoid using digits while choosing a variable name\n",
    "\n",
    "6.try to use a name for the function which conveys the purpose of the function\n",
    "\n",
    "7.Local variables should be named using camelCase format (ex: localVariable) whereas Global variables names should be using\n",
    "PascalCase (ex:GlobalVariable).\n",
    "\n",
    "8.Constant should be represented in allcaps (ex:CONSTANT)."
   ]
  },
  {
   "cell_type": "markdown",
   "metadata": {},
   "source": [
    "# Q7Name three or more ways that functions can communicate results to a caller."
   ]
  },
  {
   "cell_type": "code",
   "execution_count": null,
   "metadata": {},
   "outputs": [],
   "source": [
    " Some of the ways in which a function can communicate with the calling function is:\n",
    "    print\n",
    "    return\n",
    "    yield"
   ]
  }
 ],
 "metadata": {
  "kernelspec": {
   "display_name": "Python 3",
   "language": "python",
   "name": "python3"
  },
  "language_info": {
   "codemirror_mode": {
    "name": "ipython",
    "version": 3
   },
   "file_extension": ".py",
   "mimetype": "text/x-python",
   "name": "python",
   "nbconvert_exporter": "python",
   "pygments_lexer": "ipython3",
   "version": "3.7.3"
  }
 },
 "nbformat": 4,
 "nbformat_minor": 2
}
